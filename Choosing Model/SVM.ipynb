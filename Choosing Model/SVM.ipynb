{
 "cells": [
  {
   "cell_type": "markdown",
   "id": "8b79a4b9",
   "metadata": {},
   "source": [
    " # <div style=\"text-align: center\">Shoot Outcome Prediction</div>"
   ]
  },
  {
   "cell_type": "markdown",
   "id": "747ba821",
   "metadata": {},
   "source": [
    " ## <div style=\"text-align: center\">Support Vector Machines</div>"
   ]
  },
  {
   "cell_type": "markdown",
   "id": "eaf9e122",
   "metadata": {},
   "source": [
    "### Set Up"
   ]
  },
  {
   "cell_type": "code",
   "execution_count": 1,
   "id": "3f2f02bd",
   "metadata": {},
   "outputs": [],
   "source": [
    "import pandas as pd\n",
    "import numpy as np\n",
    "import matplotlib.pyplot as plt\n",
    "%matplotlib inline"
   ]
  },
  {
   "cell_type": "code",
   "execution_count": 2,
   "id": "38292c69",
   "metadata": {},
   "outputs": [
    {
     "data": {
      "text/html": [
       "<div>\n",
       "<style scoped>\n",
       "    .dataframe tbody tr th:only-of-type {\n",
       "        vertical-align: middle;\n",
       "    }\n",
       "\n",
       "    .dataframe tbody tr th {\n",
       "        vertical-align: top;\n",
       "    }\n",
       "\n",
       "    .dataframe thead th {\n",
       "        text-align: right;\n",
       "    }\n",
       "</style>\n",
       "<table border=\"1\" class=\"dataframe\">\n",
       "  <thead>\n",
       "    <tr style=\"text-align: right;\">\n",
       "      <th></th>\n",
       "      <th>player_name</th>\n",
       "      <th>CLOSEST_DEFENDER</th>\n",
       "      <th>PTS_TYPE</th>\n",
       "      <th>SHOT_DIST</th>\n",
       "      <th>SHOT_DIST^2/100</th>\n",
       "      <th>CLOSE_DEF_DIST</th>\n",
       "      <th>CLOSE_DEF_DIST.1</th>\n",
       "      <th>SHOT_RESULT</th>\n",
       "    </tr>\n",
       "  </thead>\n",
       "  <tbody>\n",
       "    <tr>\n",
       "      <th>0</th>\n",
       "      <td>brian roberts</td>\n",
       "      <td>Anderson; Alan</td>\n",
       "      <td>2</td>\n",
       "      <td>77</td>\n",
       "      <td>59.29</td>\n",
       "      <td>13</td>\n",
       "      <td>1.69</td>\n",
       "      <td>1</td>\n",
       "    </tr>\n",
       "    <tr>\n",
       "      <th>1</th>\n",
       "      <td>brian roberts</td>\n",
       "      <td>Bogdanovic; Bojan</td>\n",
       "      <td>3</td>\n",
       "      <td>282</td>\n",
       "      <td>795.24</td>\n",
       "      <td>61</td>\n",
       "      <td>37.21</td>\n",
       "      <td>0</td>\n",
       "    </tr>\n",
       "    <tr>\n",
       "      <th>2</th>\n",
       "      <td>brian roberts</td>\n",
       "      <td>Bogdanovic; Bojan</td>\n",
       "      <td>2</td>\n",
       "      <td>101</td>\n",
       "      <td>102.01</td>\n",
       "      <td>9</td>\n",
       "      <td>0.81</td>\n",
       "      <td>0</td>\n",
       "    </tr>\n",
       "    <tr>\n",
       "      <th>3</th>\n",
       "      <td>brian roberts</td>\n",
       "      <td>Brown; Markel</td>\n",
       "      <td>2</td>\n",
       "      <td>172</td>\n",
       "      <td>295.84</td>\n",
       "      <td>34</td>\n",
       "      <td>11.56</td>\n",
       "      <td>0</td>\n",
       "    </tr>\n",
       "    <tr>\n",
       "      <th>4</th>\n",
       "      <td>brian roberts</td>\n",
       "      <td>Young; Thaddeus</td>\n",
       "      <td>2</td>\n",
       "      <td>37</td>\n",
       "      <td>13.69</td>\n",
       "      <td>11</td>\n",
       "      <td>1.21</td>\n",
       "      <td>0</td>\n",
       "    </tr>\n",
       "    <tr>\n",
       "      <th>5</th>\n",
       "      <td>brian roberts</td>\n",
       "      <td>Williams; Deron</td>\n",
       "      <td>2</td>\n",
       "      <td>184</td>\n",
       "      <td>338.56</td>\n",
       "      <td>26</td>\n",
       "      <td>6.76</td>\n",
       "      <td>0</td>\n",
       "    </tr>\n",
       "    <tr>\n",
       "      <th>6</th>\n",
       "      <td>brian roberts</td>\n",
       "      <td>Jack; Jarrett</td>\n",
       "      <td>2</td>\n",
       "      <td>207</td>\n",
       "      <td>428.49</td>\n",
       "      <td>61</td>\n",
       "      <td>37.21</td>\n",
       "      <td>0</td>\n",
       "    </tr>\n",
       "    <tr>\n",
       "      <th>7</th>\n",
       "      <td>brian roberts</td>\n",
       "      <td>Plumlee; Mason</td>\n",
       "      <td>2</td>\n",
       "      <td>35</td>\n",
       "      <td>12.25</td>\n",
       "      <td>21</td>\n",
       "      <td>4.41</td>\n",
       "      <td>1</td>\n",
       "    </tr>\n",
       "    <tr>\n",
       "      <th>8</th>\n",
       "      <td>brian roberts</td>\n",
       "      <td>Morris; Darius</td>\n",
       "      <td>3</td>\n",
       "      <td>246</td>\n",
       "      <td>605.16</td>\n",
       "      <td>73</td>\n",
       "      <td>53.29</td>\n",
       "      <td>0</td>\n",
       "    </tr>\n",
       "    <tr>\n",
       "      <th>9</th>\n",
       "      <td>brian roberts</td>\n",
       "      <td>Ellington; Wayne</td>\n",
       "      <td>3</td>\n",
       "      <td>224</td>\n",
       "      <td>501.76</td>\n",
       "      <td>198</td>\n",
       "      <td>392.04</td>\n",
       "      <td>0</td>\n",
       "    </tr>\n",
       "  </tbody>\n",
       "</table>\n",
       "</div>"
      ],
      "text/plain": [
       "     player_name   CLOSEST_DEFENDER  PTS_TYPE  SHOT_DIST  SHOT_DIST^2/100  \\\n",
       "0  brian roberts     Anderson; Alan         2         77            59.29   \n",
       "1  brian roberts  Bogdanovic; Bojan         3        282           795.24   \n",
       "2  brian roberts  Bogdanovic; Bojan         2        101           102.01   \n",
       "3  brian roberts      Brown; Markel         2        172           295.84   \n",
       "4  brian roberts    Young; Thaddeus         2         37            13.69   \n",
       "5  brian roberts    Williams; Deron         2        184           338.56   \n",
       "6  brian roberts      Jack; Jarrett         2        207           428.49   \n",
       "7  brian roberts     Plumlee; Mason         2         35            12.25   \n",
       "8  brian roberts     Morris; Darius         3        246           605.16   \n",
       "9  brian roberts   Ellington; Wayne         3        224           501.76   \n",
       "\n",
       "   CLOSE_DEF_DIST  CLOSE_DEF_DIST.1  SHOT_RESULT  \n",
       "0              13              1.69            1  \n",
       "1              61             37.21            0  \n",
       "2               9              0.81            0  \n",
       "3              34             11.56            0  \n",
       "4              11              1.21            0  \n",
       "5              26              6.76            0  \n",
       "6              61             37.21            0  \n",
       "7              21              4.41            1  \n",
       "8              73             53.29            0  \n",
       "9             198            392.04            0  "
      ]
     },
     "execution_count": 2,
     "metadata": {},
     "output_type": "execute_result"
    }
   ],
   "source": [
    "file_path = \"/Users/ysadre/Desktop/NBA Expected Point/Data/\"\n",
    "dataset = pd.read_csv(file_path + \"PredictIonProject.csv\", delimiter=\";\")\n",
    "dataset.head(10) #Return 10 rows of data"
   ]
  },
  {
   "cell_type": "code",
   "execution_count": 6,
   "id": "10a057d1",
   "metadata": {},
   "outputs": [],
   "source": [
    "X = dataset.iloc[:,2:7].values\n",
    "y = dataset.iloc[:,7:8].values"
   ]
  },
  {
   "cell_type": "markdown",
   "id": "9dcb6d9c",
   "metadata": {},
   "source": [
    "### Model Fitting"
   ]
  },
  {
   "cell_type": "code",
   "execution_count": 10,
   "id": "8637cc79",
   "metadata": {},
   "outputs": [
    {
     "data": {
      "text/plain": [
       "128069"
      ]
     },
     "execution_count": 10,
     "metadata": {},
     "output_type": "execute_result"
    }
   ],
   "source": [
    "from sklearn.preprocessing import StandardScaler\n",
    "sc = StandardScaler()\n",
    "X = sc.fit_transform(X)\n",
    "len(X)"
   ]
  },
  {
   "cell_type": "code",
   "execution_count": 11,
   "id": "a91f1b1a",
   "metadata": {},
   "outputs": [],
   "source": [
    "from sklearn.model_selection import train_test_split\n",
    "X_train, X_test, y_train, y_test = train_test_split(X, y, test_size = 0.1)"
   ]
  },
  {
   "cell_type": "code",
   "execution_count": 12,
   "id": "aa324823",
   "metadata": {},
   "outputs": [
    {
     "name": "stderr",
     "output_type": "stream",
     "text": [
      "/opt/homebrew/lib/python3.9/site-packages/sklearn/utils/validation.py:993: DataConversionWarning: A column-vector y was passed when a 1d array was expected. Please change the shape of y to (n_samples, ), for example using ravel().\n",
      "  y = column_or_1d(y, warn=True)\n"
     ]
    },
    {
     "data": {
      "text/plain": [
       "SVC(kernel='linear')"
      ]
     },
     "execution_count": 12,
     "metadata": {},
     "output_type": "execute_result"
    }
   ],
   "source": [
    "from sklearn.svm import SVC\n",
    "svclassifier = SVC(kernel='linear')\n",
    "svclassifier.fit(X_train, y_train)"
   ]
  },
  {
   "cell_type": "code",
   "execution_count": 13,
   "id": "117cefe0",
   "metadata": {},
   "outputs": [],
   "source": [
    "y_pred = svclassifier.predict(X_test)"
   ]
  },
  {
   "cell_type": "code",
   "execution_count": 14,
   "id": "ad738955",
   "metadata": {},
   "outputs": [
    {
     "name": "stdout",
     "output_type": "stream",
     "text": [
      "[[4961 2030]\n",
      " [3057 2759]]\n",
      "              precision    recall  f1-score   support\n",
      "\n",
      "           0       0.62      0.71      0.66      6991\n",
      "           1       0.58      0.47      0.52      5816\n",
      "\n",
      "    accuracy                           0.60     12807\n",
      "   macro avg       0.60      0.59      0.59     12807\n",
      "weighted avg       0.60      0.60      0.60     12807\n",
      "\n"
     ]
    }
   ],
   "source": [
    "from sklearn.metrics import classification_report, confusion_matrix\n",
    "print(confusion_matrix(y_test,y_pred))\n",
    "print(classification_report(y_test,y_pred))"
   ]
  },
  {
   "cell_type": "code",
   "execution_count": 15,
   "id": "fc3a4363",
   "metadata": {},
   "outputs": [],
   "source": [
    "ypred=[]\n",
    "for elem in y_pred:\n",
    "    ypred.append(elem)"
   ]
  },
  {
   "cell_type": "code",
   "execution_count": 16,
   "id": "17ec272b",
   "metadata": {},
   "outputs": [],
   "source": [
    "ytest=[]\n",
    "for elem in y_test:\n",
    "    ytest.append(elem)"
   ]
  },
  {
   "cell_type": "code",
   "execution_count": 17,
   "id": "5118d292",
   "metadata": {},
   "outputs": [],
   "source": [
    "cm = confusion_matrix(y_true=ytest, y_pred=ypred)\n",
    "def plot_confusion_matrix(cm, classes,\n",
    "                        normalize=False,\n",
    "                        title='Confusion matrix',\n",
    "                        cmap=plt.cm.Blues):\n",
    "    \"\"\"\n",
    "    This function prints and plots the confusion matrix.\n",
    "    Normalization can be applied by setting `normalize=True`.\n",
    "    \"\"\"\n",
    "    plt.imshow(cm, interpolation='nearest', cmap=cmap)\n",
    "    plt.title(title)\n",
    "    plt.colorbar()\n",
    "    tick_marks = np.arange(len(classes))\n",
    "    plt.xticks(tick_marks, classes, rotation=45)\n",
    "    plt.yticks(tick_marks, classes)\n",
    "\n",
    "    if normalize:\n",
    "        cm = cm.astype('float') / cm.sum(axis=1)[:, np.newaxis]\n",
    "        print(\"Normalized confusion matrix\")\n",
    "    else:\n",
    "        print('Confusion matrix, without normalization')\n",
    "\n",
    "    print(cm)\n",
    "\n",
    "    thresh = cm.max() / 2.\n",
    "    #for i, j in itertools.product(range(cm.shape[0]), range(cm.shape[1])):\n",
    "     #   plt.text(j, i, cm[i, j],\n",
    "      #      horizontalalignment=\"center\",\n",
    "       #     color=\"white\" if cm[i, j] > thresh else \"black\")\n",
    "\n",
    "    plt.tight_layout()\n",
    "    plt.ylabel('True label')\n",
    "    plt.xlabel('Predicted label')"
   ]
  },
  {
   "cell_type": "code",
   "execution_count": 18,
   "id": "af2f2150",
   "metadata": {},
   "outputs": [
    {
     "name": "stdout",
     "output_type": "stream",
     "text": [
      "Confusion matrix, without normalization\n",
      "[[4961 2030]\n",
      " [3057 2759]]\n"
     ]
    },
    {
     "data": {
      "image/png": "[encoded data removed]",
      "text/plain": [
       "<Figure size 432x288 with 2 Axes>"
      ]
     },
     "metadata": {
      "needs_background": "light"
     },
     "output_type": "display_data"
    }
   ],
   "source": [
    "cm_plot_labels = ['0','1']\n",
    "plot_confusion_matrix(cm=cm, classes=cm_plot_labels, title='Confusion Matrix')"
   ]
  },
  {
   "cell_type": "code",
   "execution_count": null,
   "id": "71f43a2d",
   "metadata": {},
   "outputs": [],
   "source": []
  }
 ],
 "metadata": {
  "kernelspec": {
   "display_name": "Python 3 (ipykernel)",
   "language": "python",
   "name": "python3"
  },
  "language_info": {
   "codemirror_mode": {
    "name": "ipython",
    "version": 3
   },
   "file_extension": ".py",
   "mimetype": "text/x-python",
   "name": "python",
   "nbconvert_exporter": "python",
   "pygments_lexer": "ipython3",
   "version": "3.7.11"
  }
 },
 "nbformat": 4,
 "nbformat_minor": 5
}
