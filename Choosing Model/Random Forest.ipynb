{
 "cells": [
  {
   "cell_type": "markdown",
   "id": "bfc54c51",
   "metadata": {},
   "source": [
    " # <div style=\"text-align: center\">Shoot Outcome Prediction</div>"
   ]
  },
  {
   "cell_type": "markdown",
   "id": "aa0611a1",
   "metadata": {},
   "source": [
    " ## <div style=\"text-align: center\">Random Forest</div>"
   ]
  },
  {
   "cell_type": "markdown",
   "id": "61507e49",
   "metadata": {},
   "source": [
    "### Set Up"
   ]
  },
  {
   "cell_type": "code",
   "execution_count": 1,
   "id": "da8a60e3",
   "metadata": {},
   "outputs": [],
   "source": [
    "import pandas as pd\n",
    "import numpy as np"
   ]
  },
  {
   "cell_type": "code",
   "execution_count": 2,
   "id": "eda66a58",
   "metadata": {},
   "outputs": [],
   "source": [
    "file_path = \"/Users/ysadre/Desktop/NBA Expected Point/Data/\"\n",
    "dataset = pd.read_csv(file_path + \"PredictIonProject.csv\", delimiter=\";\")"
   ]
  },
  {
   "cell_type": "code",
   "execution_count": 5,
   "id": "3e8edd1f",
   "metadata": {},
   "outputs": [],
   "source": [
    "#Changing pandas dataframe to numpy array\n",
    "X = dataset.iloc[:,2:7].values\n",
    "y = dataset.iloc[:,7:8].values"
   ]
  },
  {
   "cell_type": "code",
   "execution_count": 6,
   "id": "25073964",
   "metadata": {},
   "outputs": [
    {
     "data": {
      "text/plain": [
       "array([[  2.  ,  77.  ,  59.29,  13.  ,   1.69],\n",
       "       [  3.  , 282.  , 795.24,  61.  ,  37.21],\n",
       "       [  2.  , 101.  , 102.01,   9.  ,   0.81],\n",
       "       ...,\n",
       "       [  2.  , 169.  , 285.61,  42.  ,  17.64],\n",
       "       [  2.  , 183.  , 334.89,  30.  ,   9.  ],\n",
       "       [  2.  ,  51.  ,  26.01,  23.  ,   5.29]])"
      ]
     },
     "execution_count": 6,
     "metadata": {},
     "output_type": "execute_result"
    }
   ],
   "source": [
    "X"
   ]
  },
  {
   "cell_type": "markdown",
   "id": "0ba03d97",
   "metadata": {},
   "source": [
    "### Model Fitting"
   ]
  },
  {
   "cell_type": "code",
   "execution_count": 7,
   "id": "810b4c0f",
   "metadata": {},
   "outputs": [
    {
     "data": {
      "text/plain": [
       "128069"
      ]
     },
     "execution_count": 7,
     "metadata": {},
     "output_type": "execute_result"
    }
   ],
   "source": [
    "#Normalizing the data\n",
    "from sklearn.preprocessing import StandardScaler\n",
    "sc = StandardScaler()\n",
    "X = sc.fit_transform(X)\n",
    "len(X)"
   ]
  },
  {
   "cell_type": "code",
   "execution_count": 8,
   "id": "f9c3a8ae",
   "metadata": {},
   "outputs": [],
   "source": [
    "from sklearn.model_selection import train_test_split\n",
    "X_train,X_test,y_train,y_test = train_test_split(X,y,test_size = 0.1)"
   ]
  },
  {
   "cell_type": "code",
   "execution_count": 9,
   "id": "041c7a22",
   "metadata": {},
   "outputs": [
    {
     "name": "stderr",
     "output_type": "stream",
     "text": [
      "/Users/ysadre/opt/anaconda3/envs/python3.7/lib/python3.7/site-packages/ipykernel_launcher.py:4: DataConversionWarning: A column-vector y was passed when a 1d array was expected. Please change the shape of y to (n_samples,), for example using ravel().\n",
      "  after removing the cwd from sys.path.\n"
     ]
    }
   ],
   "source": [
    "from sklearn.ensemble import RandomForestClassifier\n",
    "\n",
    "classifier = RandomForestClassifier(n_estimators=600, random_state=0)\n",
    "classifier.fit(X_train, y_train)\n",
    "y_pred = classifier.predict(X_test)"
   ]
  },
  {
   "cell_type": "code",
   "execution_count": 10,
   "id": "4de44c84",
   "metadata": {},
   "outputs": [
    {
     "name": "stdout",
     "output_type": "stream",
     "text": [
      "[[4594 2370]\n",
      " [3132 2711]]\n",
      "              precision    recall  f1-score   support\n",
      "\n",
      "           0       0.59      0.66      0.63      6964\n",
      "           1       0.53      0.46      0.50      5843\n",
      "\n",
      "    accuracy                           0.57     12807\n",
      "   macro avg       0.56      0.56      0.56     12807\n",
      "weighted avg       0.57      0.57      0.57     12807\n",
      "\n",
      "Accuracy is: 0.5703911923167018\n"
     ]
    }
   ],
   "source": [
    "from sklearn.metrics import classification_report, confusion_matrix, accuracy_score\n",
    "\n",
    "print(confusion_matrix(y_test,y_pred))\n",
    "print(classification_report(y_test,y_pred))\n",
    "print(\"Accuracy is:\", accuracy_score(y_test, y_pred))"
   ]
  }
 ],
 "metadata": {
  "kernelspec": {
   "display_name": "Python 3 (ipykernel)",
   "language": "python",
   "name": "python3"
  },
  "language_info": {
   "codemirror_mode": {
    "name": "ipython",
    "version": 3
   },
   "file_extension": ".py",
   "mimetype": "text/x-python",
   "name": "python",
   "nbconvert_exporter": "python",
   "pygments_lexer": "ipython3",
   "version": "3.7.11"
  }
 },
 "nbformat": 4,
 "nbformat_minor": 5
}
