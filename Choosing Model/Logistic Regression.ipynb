{
 "cells": [
  {
   "cell_type": "markdown",
   "id": "c48bc636",
   "metadata": {},
   "source": [
    " # <div style=\"text-align: center\">Shoot Outcome Prediction</div>"
   ]
  },
  {
   "cell_type": "markdown",
   "id": "0654abe7",
   "metadata": {},
   "source": [
    " ## <div style=\"text-align: center\">Logistic Regression</div>"
   ]
  },
  {
   "cell_type": "markdown",
   "id": "1c9df3ba",
   "metadata": {},
   "source": [
    "### Set Up"
   ]
  },
  {
   "cell_type": "code",
   "execution_count": 1,
   "id": "ea8baa61",
   "metadata": {},
   "outputs": [],
   "source": [
    "import pandas as pd\n",
    "import numpy as np\n",
    "from sklearn import preprocessing\n",
    "import matplotlib.pyplot as plt \n",
    "plt.rc(\"font\", size=14)\n",
    "from sklearn.linear_model import LogisticRegression\n",
    "from sklearn.model_selection import train_test_split\n",
    "import seaborn as sns\n",
    "import os\n",
    "sns.set(style=\"white\")\n",
    "sns.set(style=\"whitegrid\", color_codes=True)"
   ]
  },
  {
   "cell_type": "code",
   "execution_count": 2,
   "id": "68c5dfe3",
   "metadata": {},
   "outputs": [
    {
     "data": {
      "text/html": [
       "<div>\n",
       "<style scoped>\n",
       "    .dataframe tbody tr th:only-of-type {\n",
       "        vertical-align: middle;\n",
       "    }\n",
       "\n",
       "    .dataframe tbody tr th {\n",
       "        vertical-align: top;\n",
       "    }\n",
       "\n",
       "    .dataframe thead th {\n",
       "        text-align: right;\n",
       "    }\n",
       "</style>\n",
       "<table border=\"1\" class=\"dataframe\">\n",
       "  <thead>\n",
       "    <tr style=\"text-align: right;\">\n",
       "      <th></th>\n",
       "      <th>player_name</th>\n",
       "      <th>CLOSEST_DEFENDER</th>\n",
       "      <th>PTS_TYPE</th>\n",
       "      <th>SHOT_DIST</th>\n",
       "      <th>SHOT_DIST^2/100</th>\n",
       "      <th>CLOSE_DEF_DIST</th>\n",
       "      <th>CLOSE_DEF_DIST.1</th>\n",
       "      <th>SHOT_RESULT</th>\n",
       "    </tr>\n",
       "  </thead>\n",
       "  <tbody>\n",
       "    <tr>\n",
       "      <th>0</th>\n",
       "      <td>brian roberts</td>\n",
       "      <td>Anderson; Alan</td>\n",
       "      <td>2</td>\n",
       "      <td>77</td>\n",
       "      <td>59.29</td>\n",
       "      <td>13</td>\n",
       "      <td>1.69</td>\n",
       "      <td>1</td>\n",
       "    </tr>\n",
       "    <tr>\n",
       "      <th>1</th>\n",
       "      <td>brian roberts</td>\n",
       "      <td>Bogdanovic; Bojan</td>\n",
       "      <td>3</td>\n",
       "      <td>282</td>\n",
       "      <td>795.24</td>\n",
       "      <td>61</td>\n",
       "      <td>37.21</td>\n",
       "      <td>0</td>\n",
       "    </tr>\n",
       "    <tr>\n",
       "      <th>2</th>\n",
       "      <td>brian roberts</td>\n",
       "      <td>Bogdanovic; Bojan</td>\n",
       "      <td>2</td>\n",
       "      <td>101</td>\n",
       "      <td>102.01</td>\n",
       "      <td>9</td>\n",
       "      <td>0.81</td>\n",
       "      <td>0</td>\n",
       "    </tr>\n",
       "    <tr>\n",
       "      <th>3</th>\n",
       "      <td>brian roberts</td>\n",
       "      <td>Brown; Markel</td>\n",
       "      <td>2</td>\n",
       "      <td>172</td>\n",
       "      <td>295.84</td>\n",
       "      <td>34</td>\n",
       "      <td>11.56</td>\n",
       "      <td>0</td>\n",
       "    </tr>\n",
       "    <tr>\n",
       "      <th>4</th>\n",
       "      <td>brian roberts</td>\n",
       "      <td>Young; Thaddeus</td>\n",
       "      <td>2</td>\n",
       "      <td>37</td>\n",
       "      <td>13.69</td>\n",
       "      <td>11</td>\n",
       "      <td>1.21</td>\n",
       "      <td>0</td>\n",
       "    </tr>\n",
       "    <tr>\n",
       "      <th>5</th>\n",
       "      <td>brian roberts</td>\n",
       "      <td>Williams; Deron</td>\n",
       "      <td>2</td>\n",
       "      <td>184</td>\n",
       "      <td>338.56</td>\n",
       "      <td>26</td>\n",
       "      <td>6.76</td>\n",
       "      <td>0</td>\n",
       "    </tr>\n",
       "    <tr>\n",
       "      <th>6</th>\n",
       "      <td>brian roberts</td>\n",
       "      <td>Jack; Jarrett</td>\n",
       "      <td>2</td>\n",
       "      <td>207</td>\n",
       "      <td>428.49</td>\n",
       "      <td>61</td>\n",
       "      <td>37.21</td>\n",
       "      <td>0</td>\n",
       "    </tr>\n",
       "    <tr>\n",
       "      <th>7</th>\n",
       "      <td>brian roberts</td>\n",
       "      <td>Plumlee; Mason</td>\n",
       "      <td>2</td>\n",
       "      <td>35</td>\n",
       "      <td>12.25</td>\n",
       "      <td>21</td>\n",
       "      <td>4.41</td>\n",
       "      <td>1</td>\n",
       "    </tr>\n",
       "    <tr>\n",
       "      <th>8</th>\n",
       "      <td>brian roberts</td>\n",
       "      <td>Morris; Darius</td>\n",
       "      <td>3</td>\n",
       "      <td>246</td>\n",
       "      <td>605.16</td>\n",
       "      <td>73</td>\n",
       "      <td>53.29</td>\n",
       "      <td>0</td>\n",
       "    </tr>\n",
       "    <tr>\n",
       "      <th>9</th>\n",
       "      <td>brian roberts</td>\n",
       "      <td>Ellington; Wayne</td>\n",
       "      <td>3</td>\n",
       "      <td>224</td>\n",
       "      <td>501.76</td>\n",
       "      <td>198</td>\n",
       "      <td>392.04</td>\n",
       "      <td>0</td>\n",
       "    </tr>\n",
       "  </tbody>\n",
       "</table>\n",
       "</div>"
      ],
      "text/plain": [
       "     player_name   CLOSEST_DEFENDER  PTS_TYPE  SHOT_DIST  SHOT_DIST^2/100  \\\n",
       "0  brian roberts     Anderson; Alan         2         77            59.29   \n",
       "1  brian roberts  Bogdanovic; Bojan         3        282           795.24   \n",
       "2  brian roberts  Bogdanovic; Bojan         2        101           102.01   \n",
       "3  brian roberts      Brown; Markel         2        172           295.84   \n",
       "4  brian roberts    Young; Thaddeus         2         37            13.69   \n",
       "5  brian roberts    Williams; Deron         2        184           338.56   \n",
       "6  brian roberts      Jack; Jarrett         2        207           428.49   \n",
       "7  brian roberts     Plumlee; Mason         2         35            12.25   \n",
       "8  brian roberts     Morris; Darius         3        246           605.16   \n",
       "9  brian roberts   Ellington; Wayne         3        224           501.76   \n",
       "\n",
       "   CLOSE_DEF_DIST  CLOSE_DEF_DIST.1  SHOT_RESULT  \n",
       "0              13              1.69            1  \n",
       "1              61             37.21            0  \n",
       "2               9              0.81            0  \n",
       "3              34             11.56            0  \n",
       "4              11              1.21            0  \n",
       "5              26              6.76            0  \n",
       "6              61             37.21            0  \n",
       "7              21              4.41            1  \n",
       "8              73             53.29            0  \n",
       "9             198            392.04            0  "
      ]
     },
     "execution_count": 2,
     "metadata": {},
     "output_type": "execute_result"
    }
   ],
   "source": [
    "file_path = \"/Users/ysadre/Desktop/NBA Expected Point/Data/\"\n",
    "df = pd.read_csv(file_path + \"PredictIonProject.csv\", delimiter=\";\")\n",
    "df.head(10)"
   ]
  },
  {
   "cell_type": "code",
   "execution_count": 31,
   "id": "d16a7d8a",
   "metadata": {},
   "outputs": [
    {
     "data": {
      "text/html": [
       "<div>\n",
       "<style scoped>\n",
       "    .dataframe tbody tr th:only-of-type {\n",
       "        vertical-align: middle;\n",
       "    }\n",
       "\n",
       "    .dataframe tbody tr th {\n",
       "        vertical-align: top;\n",
       "    }\n",
       "\n",
       "    .dataframe thead th {\n",
       "        text-align: right;\n",
       "    }\n",
       "</style>\n",
       "<table border=\"1\" class=\"dataframe\">\n",
       "  <thead>\n",
       "    <tr style=\"text-align: right;\">\n",
       "      <th></th>\n",
       "      <th>PTS_TYPE</th>\n",
       "      <th>SHOT_DIST</th>\n",
       "      <th>SHOT_DIST^2/100</th>\n",
       "      <th>CLOSE_DEF_DIST</th>\n",
       "      <th>CLOSE_DEF_DIST.1</th>\n",
       "      <th>SHOT_RESULT</th>\n",
       "    </tr>\n",
       "  </thead>\n",
       "  <tbody>\n",
       "    <tr>\n",
       "      <th>0</th>\n",
       "      <td>2</td>\n",
       "      <td>77</td>\n",
       "      <td>59.29</td>\n",
       "      <td>13</td>\n",
       "      <td>1.69</td>\n",
       "      <td>1</td>\n",
       "    </tr>\n",
       "    <tr>\n",
       "      <th>1</th>\n",
       "      <td>3</td>\n",
       "      <td>282</td>\n",
       "      <td>795.24</td>\n",
       "      <td>61</td>\n",
       "      <td>37.21</td>\n",
       "      <td>0</td>\n",
       "    </tr>\n",
       "    <tr>\n",
       "      <th>2</th>\n",
       "      <td>2</td>\n",
       "      <td>101</td>\n",
       "      <td>102.01</td>\n",
       "      <td>9</td>\n",
       "      <td>0.81</td>\n",
       "      <td>0</td>\n",
       "    </tr>\n",
       "    <tr>\n",
       "      <th>3</th>\n",
       "      <td>2</td>\n",
       "      <td>172</td>\n",
       "      <td>295.84</td>\n",
       "      <td>34</td>\n",
       "      <td>11.56</td>\n",
       "      <td>0</td>\n",
       "    </tr>\n",
       "    <tr>\n",
       "      <th>4</th>\n",
       "      <td>2</td>\n",
       "      <td>37</td>\n",
       "      <td>13.69</td>\n",
       "      <td>11</td>\n",
       "      <td>1.21</td>\n",
       "      <td>0</td>\n",
       "    </tr>\n",
       "  </tbody>\n",
       "</table>\n",
       "</div>"
      ],
      "text/plain": [
       "   PTS_TYPE  SHOT_DIST  SHOT_DIST^2/100  CLOSE_DEF_DIST  CLOSE_DEF_DIST.1  \\\n",
       "0         2         77            59.29              13              1.69   \n",
       "1         3        282           795.24              61             37.21   \n",
       "2         2        101           102.01               9              0.81   \n",
       "3         2        172           295.84              34             11.56   \n",
       "4         2         37            13.69              11              1.21   \n",
       "\n",
       "   SHOT_RESULT  \n",
       "0            1  \n",
       "1            0  \n",
       "2            0  \n",
       "3            0  \n",
       "4            0  "
      ]
     },
     "execution_count": 31,
     "metadata": {},
     "output_type": "execute_result"
    }
   ],
   "source": [
    "df2 = df.drop([\"player_name\", \"CLOSEST_DEFENDER\"], axis = 1)\n",
    "df2.head()\n",
    "#X = df.iloc[:,2:8].values\n",
    "#y = df.iloc[:,8:9].values"
   ]
  },
  {
   "cell_type": "code",
   "execution_count": 32,
   "id": "17db3de1",
   "metadata": {},
   "outputs": [
    {
     "name": "stdout",
     "output_type": "stream",
     "text": [
      "        SHOT_RESULT\n",
      "0                 1\n",
      "1                 0\n",
      "2                 0\n",
      "3                 0\n",
      "4                 0\n",
      "...             ...\n",
      "128064            0\n",
      "128065            1\n",
      "128066            1\n",
      "128067            0\n",
      "128068            1\n",
      "\n",
      "[128069 rows x 1 columns]\n"
     ]
    }
   ],
   "source": [
    "y = df2.loc[:, df2.columns == 'SHOT_RESULT']\n",
    "X = df2.loc[:, df2.columns != 'SHOT_RESULT']\n",
    "\n",
    "print(y)"
   ]
  },
  {
   "cell_type": "markdown",
   "id": "7f21f657",
   "metadata": {},
   "source": [
    "### Model Fitting"
   ]
  },
  {
   "cell_type": "code",
   "execution_count": 33,
   "id": "4ff2dde2",
   "metadata": {},
   "outputs": [
    {
     "name": "stdout",
     "output_type": "stream",
     "text": [
      "Optimization terminated successfully.\n",
      "         Current function value: 0.660229\n",
      "         Iterations 5\n",
      "                          Results: Logit\n",
      "==================================================================\n",
      "Model:              Logit            Pseudo R-squared: 0.041      \n",
      "Dependent Variable: SHOT_RESULT      AIC:              169119.6474\n",
      "Date:               2022-02-04 18:27 BIC:              169168.4490\n",
      "No. Observations:   128069           Log-Likelihood:   -84555.    \n",
      "Df Model:           4                LL-Null:          -88183.    \n",
      "Df Residuals:       128064           LLR p-value:      0.0000     \n",
      "Converged:          1.0000           Scale:            1.0000     \n",
      "No. Iterations:     5.0000                                        \n",
      "------------------------------------------------------------------\n",
      "                   Coef.  Std.Err.    z     P>|z|   [0.025  0.975]\n",
      "------------------------------------------------------------------\n",
      "PTS_TYPE           0.1090   0.0079  13.8649 0.0000  0.0936  0.1244\n",
      "SHOT_DIST         -0.0108   0.0003 -39.9889 0.0000 -0.0113 -0.0102\n",
      "SHOT_DIST^2/100    0.0013   0.0001  14.6223 0.0000  0.0011  0.0014\n",
      "CLOSE_DEF_DIST     0.0195   0.0005  37.3818 0.0000  0.0185  0.0205\n",
      "CLOSE_DEF_DIST.1  -0.0052   0.0003 -18.2101 0.0000 -0.0058 -0.0046\n",
      "==================================================================\n",
      "\n"
     ]
    }
   ],
   "source": [
    "import statsmodels.api as sm\n",
    "logit_model=sm.Logit(y,X)\n",
    "result=logit_model.fit()\n",
    "print(result.summary2())"
   ]
  },
  {
   "cell_type": "code",
   "execution_count": 34,
   "id": "a5849289",
   "metadata": {},
   "outputs": [
    {
     "name": "stdout",
     "output_type": "stream",
     "text": [
      "Optimization terminated successfully.\n",
      "         Current function value: 0.660229\n",
      "         Iterations 5\n",
      "                          Results: Logit\n",
      "==================================================================\n",
      "Model:              Logit            Pseudo R-squared: 0.041      \n",
      "Dependent Variable: SHOT_RESULT      AIC:              169119.6474\n",
      "Date:               2022-02-04 18:27 BIC:              169168.4490\n",
      "No. Observations:   128069           Log-Likelihood:   -84555.    \n",
      "Df Model:           4                LL-Null:          -88183.    \n",
      "Df Residuals:       128064           LLR p-value:      0.0000     \n",
      "Converged:          1.0000           Scale:            1.0000     \n",
      "No. Iterations:     5.0000                                        \n",
      "------------------------------------------------------------------\n",
      "                   Coef.  Std.Err.    z     P>|z|   [0.025  0.975]\n",
      "------------------------------------------------------------------\n",
      "PTS_TYPE           0.1090   0.0079  13.8649 0.0000  0.0936  0.1244\n",
      "SHOT_DIST         -0.0108   0.0003 -39.9889 0.0000 -0.0113 -0.0102\n",
      "SHOT_DIST^2/100    0.0013   0.0001  14.6223 0.0000  0.0011  0.0014\n",
      "CLOSE_DEF_DIST     0.0195   0.0005  37.3818 0.0000  0.0185  0.0205\n",
      "CLOSE_DEF_DIST.1  -0.0052   0.0003 -18.2101 0.0000 -0.0058 -0.0046\n",
      "==================================================================\n",
      "\n"
     ]
    }
   ],
   "source": [
    "logit_model=sm.Logit(y,X)\n",
    "result=logit_model.fit()\n",
    "print(result.summary2())"
   ]
  },
  {
   "cell_type": "code",
   "execution_count": 35,
   "id": "9a5132b5",
   "metadata": {},
   "outputs": [
    {
     "name": "stderr",
     "output_type": "stream",
     "text": [
      "/Users/ysadre/opt/anaconda3/lib/python3.9/site-packages/sklearn/utils/validation.py:63: DataConversionWarning: A column-vector y was passed when a 1d array was expected. Please change the shape of y to (n_samples, ), for example using ravel().\n",
      "  return f(*args, **kwargs)\n"
     ]
    },
    {
     "data": {
      "text/plain": [
       "LogisticRegression()"
      ]
     },
     "execution_count": 35,
     "metadata": {},
     "output_type": "execute_result"
    }
   ],
   "source": [
    "from sklearn.linear_model import LogisticRegression\n",
    "from sklearn import metrics\n",
    "X_train, X_test, y_train, y_test = train_test_split(X, y, test_size=0.2, random_state=5)\n",
    "logreg = LogisticRegression()\n",
    "logreg.fit(X_train, y_train)"
   ]
  },
  {
   "cell_type": "markdown",
   "id": "95012eeb",
   "metadata": {},
   "source": [
    "### Model Evaluation"
   ]
  },
  {
   "cell_type": "code",
   "execution_count": 36,
   "id": "f5f28e9d",
   "metadata": {
    "scrolled": true
   },
   "outputs": [
    {
     "name": "stdout",
     "output_type": "stream",
     "text": [
      "Accuracy of logistic regression classifier on test set: 0.61\n"
     ]
    }
   ],
   "source": [
    "y_pred = logreg.predict(X_test)\n",
    "print('Accuracy of logistic regression classifier on test set: {:.2f}'.format(logreg.score(X_test, y_test)))"
   ]
  },
  {
   "cell_type": "code",
   "execution_count": 37,
   "id": "d1db8c6e",
   "metadata": {},
   "outputs": [
    {
     "name": "stdout",
     "output_type": "stream",
     "text": [
      "[[10306  3723]\n",
      " [ 6213  5372]]\n"
     ]
    }
   ],
   "source": [
    "from sklearn.metrics import confusion_matrix\n",
    "confusion_matrix = confusion_matrix(y_test, y_pred)\n",
    "print(confusion_matrix)"
   ]
  },
  {
   "cell_type": "code",
   "execution_count": 38,
   "id": "1f5f9c03",
   "metadata": {},
   "outputs": [
    {
     "name": "stdout",
     "output_type": "stream",
     "text": [
      "              precision    recall  f1-score   support\n",
      "\n",
      "           0       0.62      0.73      0.67     14029\n",
      "           1       0.59      0.46      0.52     11585\n",
      "\n",
      "    accuracy                           0.61     25614\n",
      "   macro avg       0.61      0.60      0.60     25614\n",
      "weighted avg       0.61      0.61      0.60     25614\n",
      "\n"
     ]
    }
   ],
   "source": [
    "from sklearn.metrics import classification_report\n",
    "print(classification_report(y_test, y_pred))"
   ]
  },
  {
   "cell_type": "code",
   "execution_count": 39,
   "id": "e71a1a60",
   "metadata": {},
   "outputs": [
    {
     "data": {
      "image/png": "[encoded data removed]",
      "text/plain": [
       "<Figure size 432x288 with 1 Axes>"
      ]
     },
     "metadata": {},
     "output_type": "display_data"
    }
   ],
   "source": [
    "from sklearn.metrics import roc_auc_score\n",
    "from sklearn.metrics import roc_curve\n",
    "logit_roc_auc = roc_auc_score(y_test, logreg.predict(X_test))\n",
    "fpr, tpr, thresholds = roc_curve(y_test, logreg.predict_proba(X_test)[:,1])\n",
    "plt.figure()\n",
    "plt.plot(fpr, tpr, label='Logistic Regression (area = %0.2f)' % logit_roc_auc)\n",
    "plt.plot([0, 1], [0, 1],'r--')\n",
    "plt.xlim([0.0, 1.0])\n",
    "plt.ylim([0.0, 1.05])\n",
    "plt.xlabel('False Positive Rate')\n",
    "plt.ylabel('True Positive Rate')\n",
    "plt.title('Receiver operating characteristic')\n",
    "plt.legend(loc=\"lower right\")\n",
    "plt.savefig('Log_ROC')\n",
    "plt.show()"
   ]
  }
 ],
 "metadata": {
  "kernelspec": {
   "display_name": "Python 3 (ipykernel)",
   "language": "python",
   "name": "python3"
  },
  "language_info": {
   "codemirror_mode": {
    "name": "ipython",
    "version": 3
   },
   "file_extension": ".py",
   "mimetype": "text/x-python",
   "name": "python",
   "nbconvert_exporter": "python",
   "pygments_lexer": "ipython3",
   "version": "3.7.11"
  }
 },
 "nbformat": 4,
 "nbformat_minor": 5
}
